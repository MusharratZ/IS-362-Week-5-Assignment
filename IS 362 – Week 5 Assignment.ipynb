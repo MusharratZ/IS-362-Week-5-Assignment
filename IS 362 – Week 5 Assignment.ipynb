{
 "cells": [
  {
   "cell_type": "code",
   "execution_count": 3,
   "id": "2d446c48",
   "metadata": {},
   "outputs": [
    {
     "name": "stdout",
     "output_type": "stream",
     "text": [
      "The northest part is: \n",
      "name    Dillant Hopkins Airport\n",
      "lat                   72.270833\n",
      "lon                   42.898333\n",
      "Name: 417, dtype: object\n"
     ]
    }
   ],
   "source": [
    "import pandas as pd\n",
    "\n",
    "file_path = \"/home/c0d3x/job/forensic/nycflights13/data-raw/airports.csv\"\n",
    "airports_df = pd.read_csv(file_path)\n",
    "\n",
    "northernmost_airport = airports_df.loc[airports_df['lat'].idxmax()]\n",
    "\n",
    "print(\"The northest part is: \")\n",
    "print(northernmost_airport[['name', 'lat', 'lon']])"
   ]
  },
  {
   "cell_type": "code",
   "execution_count": 4,
   "id": "4046229c",
   "metadata": {},
   "outputs": [
    {
     "name": "stdout",
     "output_type": "stream",
     "text": [
      "The eastern part is: \n",
      "name    Eareckson As\n",
      "lat        52.712275\n",
      "lon        174.11362\n",
      "Name: 1290, dtype: object\n"
     ]
    }
   ],
   "source": [
    "import pandas as pd\n",
    "\n",
    "file_path = \"/home/c0d3x/job/forensic/nycflights13/data-raw/airports.csv\"\n",
    "airports_df = pd.read_csv(file_path)\n",
    "\n",
    "easternmost_airport = airports_df.loc[airports_df['lon'].idxmax()]\n",
    "\n",
    "print(\"The eastern part is: \")\n",
    "print(easternmost_airport[['name', 'lat', 'lon']])"
   ]
  },
  {
   "cell_type": "code",
   "execution_count": 9,
   "id": "7ce94a90",
   "metadata": {},
   "outputs": [
    {
     "name": "stdout",
     "output_type": "stream",
     "text": [
      "On February 12th, 2013, the New York area airport with the windiest weather was: EWR\n"
     ]
    }
   ],
   "source": [
    "import pandas as pd\n",
    "\n",
    "weather_file_path = '/home/c0d3x/job/forensic/nycflights13/data-raw/weather.csv'\n",
    "weather_df = pd.read_csv(weather_file_path)\n",
    "\n",
    "weather_df['time_hour'] = pd.to_datetime(weather_df['time_hour'])\n",
    "\n",
    "selected_date = '2013-02-12'\n",
    "selected_weather = weather_df[weather_df['time_hour'].dt.date == pd.to_datetime(selected_date).date()]\n",
    "\n",
    "windiest_airport = selected_weather.loc[selected_weather['wind_speed'].idxmax()]['origin']\n",
    "\n",
    "print(\"On February 12th, 2013, the New York area airport with the windiest weather was:\", windiest_airport)\n"
   ]
  },
  {
   "cell_type": "code",
   "execution_count": null,
   "id": "8efc7532",
   "metadata": {},
   "outputs": [],
   "source": []
  }
 ],
 "metadata": {
  "kernelspec": {
   "display_name": "Python 3 (ipykernel)",
   "language": "python",
   "name": "python3"
  },
  "language_info": {
   "codemirror_mode": {
    "name": "ipython",
    "version": 3
   },
   "file_extension": ".py",
   "mimetype": "text/x-python",
   "name": "python",
   "nbconvert_exporter": "python",
   "pygments_lexer": "ipython3",
   "version": "3.11.8"
  }
 },
 "nbformat": 4,
 "nbformat_minor": 5
}
